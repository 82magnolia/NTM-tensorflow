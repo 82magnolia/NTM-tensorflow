{
 "cells": [
  {
   "cell_type": "code",
   "execution_count": 1,
   "metadata": {
    "collapsed": true
   },
   "outputs": [],
   "source": [
    "%matplotlib inline\n",
    "import matplotlib\n",
    "import matplotlib.pyplot as plt\n",
    "import matplotlib.cm as cm"
   ]
  },
  {
   "cell_type": "code",
   "execution_count": 2,
   "metadata": {
    "collapsed": true
   },
   "outputs": [],
   "source": [
    "import sys\n",
    "sys.path.append('..')"
   ]
  },
  {
   "cell_type": "code",
   "execution_count": 3,
   "metadata": {
    "collapsed": false,
    "scrolled": false
   },
   "outputs": [
    {
     "name": "stdout",
     "output_type": "stream",
     "text": [
      " [*] Building a NTM model\n",
      "Percent: [####################] 100% Finished.\n",
      " [*] Build a NTM model finished\n",
      " [*] Reading checkpoints...\n"
     ]
    }
   ],
   "source": [
    "from tasks import *\n",
    "\n",
    "input_dim=10\n",
    "output_dim=10\n",
    "\n",
    "sess = tf.InteractiveSession()\n",
    "\n",
    "cell = NTMCell(input_dim=input_dim, output_dim=output_dim)\n",
    "ntm = NTM(cell, sess, 1, 20, forward_only=True)\n",
    "\n",
    "ntm.load('../checkpoint')"
   ]
  },
  {
   "cell_type": "code",
   "execution_count": 4,
   "metadata": {
    "collapsed": false
   },
   "outputs": [
    {
     "name": "stdout",
     "output_type": "stream",
     "text": [
      " [*] Reading checkpoints...\n"
     ]
    }
   ],
   "source": [
    "ntm.load('../checkpoint')"
   ]
  },
  {
   "cell_type": "code",
   "execution_count": 5,
   "metadata": {
    "collapsed": false
   },
   "outputs": [
    {
     "name": "stdout",
     "output_type": "stream",
     "text": [
      " true output : \n",
      "[array([ 0.,  0.,  1.,  0.,  1.,  1.,  1.,  1.,  1.,  1.], dtype=float32),\n",
      " array([ 0.,  0.,  0.,  1.,  0.,  1.,  0.,  0.,  0.,  0.], dtype=float32),\n",
      " array([ 0.,  0.,  1.,  1.,  0.,  1.,  0.,  0.,  1.,  1.], dtype=float32),\n",
      " array([ 0.,  0.,  1.,  1.,  1.,  1.,  0.,  1.,  0.,  0.], dtype=float32),\n",
      " array([ 0.,  0.,  0.,  0.,  1.,  1.,  0.,  1.,  1.,  0.], dtype=float32)]\n",
      " predicted output :\n",
      "array([[ 0.,  0.,  1.,  0.,  1.,  1.,  1.,  1.,  1.,  1.],\n",
      "       [ 0.,  0.,  0.,  1.,  0.,  1.,  0.,  0.,  0.,  0.],\n",
      "       [ 0.,  0.,  1.,  1.,  0.,  1.,  0.,  0.,  1.,  1.],\n",
      "       [ 0.,  0.,  1.,  1.,  1.,  1.,  0.,  1.,  0.,  0.],\n",
      "       [ 0.,  0.,  0.,  0.,  1.,  1.,  0.,  1.,  1.,  0.]], dtype=float32)\n",
      " Loss : 0.059722\n"
     ]
    }
   ],
   "source": [
    "copy(ntm, 5, sess)"
   ]
  },
  {
   "cell_type": "code",
   "execution_count": 6,
   "metadata": {
    "collapsed": false
   },
   "outputs": [],
   "source": [
    "seq, outputs, loss = copy(ntm, 10, sess, print_=False)"
   ]
  },
  {
   "cell_type": "code",
   "execution_count": 7,
   "metadata": {
    "collapsed": false
   },
   "outputs": [
    {
     "data": {
      "text/plain": [
       "array([ 0.,  0.,  0.,  0.,  0.,  0.,  0.,  0.,  0.,  0.], dtype=float32)"
      ]
     },
     "execution_count": 7,
     "metadata": {},
     "output_type": "execute_result"
    }
   ],
   "source": [
    "np.zeros_like(seq[0])"
   ]
  },
  {
   "cell_type": "code",
   "execution_count": 8,
   "metadata": {
    "collapsed": false
   },
   "outputs": [
    {
     "data": {
      "text/plain": [
       "array([[ 0.,  0.,  0.,  0.,  0.,  0.,  0.,  0.,  0.,  0.],\n",
       "       [ 0.,  0.,  0.,  0.,  0.,  0.,  0.,  0.,  0.,  0.],\n",
       "       [ 0.,  0.,  0.,  0.,  0.,  0.,  0.,  0.,  0.,  0.],\n",
       "       [ 0.,  0.,  0.,  0.,  0.,  0.,  0.,  0.,  0.,  0.],\n",
       "       [ 0.,  0.,  0.,  0.,  0.,  0.,  0.,  0.,  0.,  0.],\n",
       "       [ 0.,  0.,  0.,  0.,  0.,  0.,  0.,  0.,  0.,  0.],\n",
       "       [ 0.,  0.,  0.,  0.,  0.,  0.,  0.,  0.,  0.,  0.],\n",
       "       [ 0.,  0.,  0.,  0.,  0.,  0.,  0.,  0.,  0.,  0.],\n",
       "       [ 0.,  0.,  0.,  0.,  0.,  0.,  0.,  0.,  0.,  0.],\n",
       "       [ 0.,  0.,  0.,  0.,  0.,  0.,  0.,  0.,  0.,  0.]], dtype=float32)"
      ]
     },
     "execution_count": 8,
     "metadata": {},
     "output_type": "execute_result"
    }
   ],
   "source": [
    "np.zeros_like(outputs)"
   ]
  },
  {
   "cell_type": "code",
   "execution_count": 9,
   "metadata": {
    "collapsed": false
   },
   "outputs": [],
   "source": [
    "def plot(ntm, seq_length, sess):\n",
    "    seq, outputs, loss = copy(ntm, seq_length, sess, print_=False)\n",
    "    \n",
    "    shape = list(np.array(outputs).shape)\n",
    "    shape[0] += 2\n",
    "    z1 = np.zeros_like(outputs)\n",
    "    z2 = np.zeros(shape)\n",
    "    \n",
    "    s1 = np.zeros_like(seq[0]); s1[0]=1\n",
    "    s2 = np.zeros_like(seq[0]); s2[1]=1\n",
    "    \n",
    "    seq = [s1] + seq + [s2]\n",
    "    \n",
    "    seq = np.r_[np.array(seq), z1]\n",
    "    outputs = np.r_[z2, outputs]\n",
    "    \n",
    "    plt.figure(1,figsize=(20,7))\n",
    "    plt.subplot(211)\n",
    "    plt.imshow(seq.T, interpolation='nearest')\n",
    "    plt.subplot(212)\n",
    "    plt.imshow(outputs.T, interpolation='nearest')\n",
    "    print(\"Loss : %f\" % loss)"
   ]
  },
  {
   "cell_type": "code",
   "execution_count": 10,
   "metadata": {
    "collapsed": false,
    "scrolled": false
   },
   "outputs": [
    {
     "name": "stdout",
     "output_type": "stream",
     "text": [
      "Loss : 0.009557\n"
     ]
    },
    {
     "data": {
      "image/png": "[encoded data removed]",
      "text/plain": [
       "<matplotlib.figure.Figure at 0x147873e50>"
      ]
     },
     "metadata": {},
     "output_type": "display_data"
    }
   ],
   "source": [
    "plot(ntm, 5, sess)"
   ]
  },
  {
   "cell_type": "code",
   "execution_count": 13,
   "metadata": {
    "collapsed": false
   },
   "outputs": [
    {
     "name": "stdout",
     "output_type": "stream",
     "text": [
      "Loss : 8.551341\n"
     ]
    },
    {
     "data": {
      "image/png": "[encoded data removed]",
      "text/plain": [
       "<matplotlib.figure.Figure at 0x175a5ae90>"
      ]
     },
     "metadata": {},
     "output_type": "display_data"
    }
   ],
   "source": [
    "plot(ntm, 8, sess)"
   ]
  },
  {
   "cell_type": "code",
   "execution_count": 14,
   "metadata": {
    "collapsed": false
   },
   "outputs": [
    {
     "name": "stdout",
     "output_type": "stream",
     "text": [
      "Loss : 25.066570\n"
     ]
    },
    {
     "data": {
      "image/png": "[encoded data removed]",
      "text/plain": [
       "<matplotlib.figure.Figure at 0x1160b6a50>"
      ]
     },
     "metadata": {},
     "output_type": "display_data"
    }
   ],
   "source": [
    "plot(ntm, 10, sess)"
   ]
  },
  {
   "cell_type": "code",
   "execution_count": 12,
   "metadata": {
    "collapsed": false
   },
   "outputs": [
    {
     "name": "stdout",
     "output_type": "stream",
     "text": [
      "Loss : 141.280701\n"
     ]
    },
    {
     "data": {
      "image/png": "[encoded data removed]",
      "text/plain": [
       "<matplotlib.figure.Figure at 0x1202909d0>"
      ]
     },
     "metadata": {},
     "output_type": "display_data"
    }
   ],
   "source": [
    "plot(ntm, 20, sess)"
   ]
  },
  {
   "cell_type": "code",
   "execution_count": null,
   "metadata": {
    "collapsed": true
   },
   "outputs": [],
   "source": []
  }
 ],
 "metadata": {
  "kernelspec": {
   "display_name": "Python 2",
   "language": "python",
   "name": "python2"
  },
  "language_info": {
   "codemirror_mode": {
    "name": "ipython",
    "version": 2
   },
   "file_extension": ".py",
   "mimetype": "text/x-python",
   "name": "python",
   "nbconvert_exporter": "python",
   "pygments_lexer": "ipython2",
   "version": "2.7.10"
  }
 },
 "nbformat": 4,
 "nbformat_minor": 0
}
